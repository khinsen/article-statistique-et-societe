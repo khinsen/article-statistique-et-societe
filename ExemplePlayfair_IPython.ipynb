{
 "metadata": {
  "name": "",
  "signature": "sha256:0672047df6c13fd86d62b435adf5822b3bac2ad8abb58d65cea222c156387432"
 },
 "nbformat": 3,
 "nbformat_minor": 0,
 "worksheets": [
  {
   "cells": [
    {
     "cell_type": "heading",
     "level": 1,
     "metadata": {},
     "source": [
      "Exemple d\u2019\u00ab analyse de donn\u00e9es \u00bb de William Playfair"
     ]
    },
    {
     "cell_type": "markdown",
     "metadata": {},
     "source": [
      "Christophe Pouzat, Andrew Davison et Konrad Hinsen\n",
      "03/02/2015"
     ]
    },
    {
     "cell_type": "markdown",
     "metadata": {},
     "source": [
      "Nous utilisons les libraries [pandas](http://pandas.org/) pour la gestion des donn\u00e9es et [matplotlib](http://matplotlib.org/) pour g\u00e9n\u00e9rer des graphes. La premi\u00e8re ligne ci-dessous indique que nous souhaitons int\u00e9grer les graphes directement dans ce document."
     ]
    },
    {
     "cell_type": "code",
     "collapsed": false,
     "input": [
      "%matplotlib inline\n",
      "import pandas as pd\n",
      "import matplotlib.pyplot as plt"
     ],
     "language": "python",
     "metadata": {},
     "outputs": [],
     "prompt_number": 1
    },
    {
     "cell_type": "markdown",
     "metadata": {},
     "source": [
      "Les donn\u00e9es --\u00a0des suites chronologiques du prix du boisseau de bl\u00e9 et du salaire hebdomadaire d'un ouvrier qualifi\u00e9 en Angleterre entre 1565 et 1821\u00a0-- ont \u00e9t\u00e9 compil\u00e9es par [William Playfair](http://fr.wikipedia.org/wiki/William_Playfair) et publi\u00e9es en 1821 dans son livre _Letter on our Agricultural Distresses, Their Causes and Remedies._. Ces donn\u00e9es sont disponibles au format `csv` \u00e0 partir du site [Rdatasets](https://github.com/vincentarelbundock/Rdatasets) sur GitHub. C'est cette derni\u00e8re voie que nous allons employer. L'URL compl\u00e8te des donn\u00e9es est\u00a0: <https://raw.githubusercontent.com/vincentarelbundock/Rdatasets/master/csv/HistData/Wheat.csv>. Nous pouvons les lire directement avec pandas :"
     ]
    },
    {
     "cell_type": "code",
     "collapsed": false,
     "input": [
      "ble = pd.read_csv(\"https://raw.githubusercontent.com/vincentarelbundock/Rdatasets/master/csv/HistData/Wheat.csv\")"
     ],
     "language": "python",
     "metadata": {},
     "outputs": [],
     "prompt_number": 2
    },
    {
     "cell_type": "markdown",
     "metadata": {},
     "source": [
      "Nous v\u00e9rifions alors rapidement que le t\u00e9l\u00e9chargement suivi de la lecture des donn\u00e9es s'est d\u00e9roul\u00e9 correctement en regardant le nom des variables du tableau de donn\u00e9es que nous venons juste de cr\u00e9er :"
     ]
    },
    {
     "cell_type": "code",
     "collapsed": false,
     "input": [
      "ble.columns"
     ],
     "language": "python",
     "metadata": {},
     "outputs": [
      {
       "metadata": {},
       "output_type": "pyout",
       "prompt_number": 3,
       "text": [
        "Index([u'Unnamed: 0', u'Year', u'Wheat', u'Wages'], dtype='object')"
       ]
      }
     ],
     "prompt_number": 3
    },
    {
     "cell_type": "markdown",
     "metadata": {},
     "source": [
      "Nous pouvons \u00e9galement examiner le haut du tableau avec :"
     ]
    },
    {
     "cell_type": "code",
     "collapsed": false,
     "input": [
      "ble.head()"
     ],
     "language": "python",
     "metadata": {},
     "outputs": [
      {
       "html": [
        "<div style=\"max-height:1000px;max-width:1500px;overflow:auto;\">\n",
        "<table border=\"1\" class=\"dataframe\">\n",
        "  <thead>\n",
        "    <tr style=\"text-align: right;\">\n",
        "      <th></th>\n",
        "      <th>Unnamed: 0</th>\n",
        "      <th>Year</th>\n",
        "      <th>Wheat</th>\n",
        "      <th>Wages</th>\n",
        "    </tr>\n",
        "  </thead>\n",
        "  <tbody>\n",
        "    <tr>\n",
        "      <th>0</th>\n",
        "      <td> 1</td>\n",
        "      <td> 1565</td>\n",
        "      <td> 41.0</td>\n",
        "      <td> 5.00</td>\n",
        "    </tr>\n",
        "    <tr>\n",
        "      <th>1</th>\n",
        "      <td> 2</td>\n",
        "      <td> 1570</td>\n",
        "      <td> 45.0</td>\n",
        "      <td> 5.05</td>\n",
        "    </tr>\n",
        "    <tr>\n",
        "      <th>2</th>\n",
        "      <td> 3</td>\n",
        "      <td> 1575</td>\n",
        "      <td> 42.0</td>\n",
        "      <td> 5.08</td>\n",
        "    </tr>\n",
        "    <tr>\n",
        "      <th>3</th>\n",
        "      <td> 4</td>\n",
        "      <td> 1580</td>\n",
        "      <td> 49.0</td>\n",
        "      <td> 5.12</td>\n",
        "    </tr>\n",
        "    <tr>\n",
        "      <th>4</th>\n",
        "      <td> 5</td>\n",
        "      <td> 1585</td>\n",
        "      <td> 41.5</td>\n",
        "      <td> 5.15</td>\n",
        "    </tr>\n",
        "  </tbody>\n",
        "</table>\n",
        "</div>"
       ],
       "metadata": {},
       "output_type": "pyout",
       "prompt_number": 4,
       "text": [
        "   Unnamed: 0  Year  Wheat  Wages\n",
        "0           1  1565   41.0   5.00\n",
        "1           2  1570   45.0   5.05\n",
        "2           3  1575   42.0   5.08\n",
        "3           4  1580   49.0   5.12\n",
        "4           5  1585   41.5   5.15"
       ]
      }
     ],
     "prompt_number": 4
    },
    {
     "cell_type": "markdown",
     "metadata": {},
     "source": [
      "Nous voyons que la premi\u00e8re colonne (intitul\u00e9e `Unnamed: 0`) est inutile et nous la supprimons, puis nous pouvons franciser les impressions de r\u00e9sultats avec :"
     ]
    },
    {
     "cell_type": "code",
     "collapsed": false,
     "input": [
      "del ble[ble.columns[0]]\n",
      "ble.columns = [\"Ann\u00e9e\", \"Bl\u00e9\", \"Salaire\"]"
     ],
     "language": "python",
     "metadata": {},
     "outputs": [],
     "prompt_number": 5
    },
    {
     "cell_type": "markdown",
     "metadata": {},
     "source": [
      "Nous examinons enfin le bas de la table\u00a0:"
     ]
    },
    {
     "cell_type": "code",
     "collapsed": false,
     "input": [
      "ble.tail()"
     ],
     "language": "python",
     "metadata": {},
     "outputs": [
      {
       "html": [
        "<div style=\"max-height:1000px;max-width:1500px;overflow:auto;\">\n",
        "<table border=\"1\" class=\"dataframe\">\n",
        "  <thead>\n",
        "    <tr style=\"text-align: right;\">\n",
        "      <th></th>\n",
        "      <th>Ann\u00e9e</th>\n",
        "      <th>Bl\u00e9</th>\n",
        "      <th>Salaire</th>\n",
        "    </tr>\n",
        "  </thead>\n",
        "  <tbody>\n",
        "    <tr>\n",
        "      <th>48</th>\n",
        "      <td> 1805</td>\n",
        "      <td> 81</td>\n",
        "      <td> 29.5</td>\n",
        "    </tr>\n",
        "    <tr>\n",
        "      <th>49</th>\n",
        "      <td> 1810</td>\n",
        "      <td> 99</td>\n",
        "      <td> 30.0</td>\n",
        "    </tr>\n",
        "    <tr>\n",
        "      <th>50</th>\n",
        "      <td> 1815</td>\n",
        "      <td> 78</td>\n",
        "      <td>  NaN</td>\n",
        "    </tr>\n",
        "    <tr>\n",
        "      <th>51</th>\n",
        "      <td> 1820</td>\n",
        "      <td> 54</td>\n",
        "      <td>  NaN</td>\n",
        "    </tr>\n",
        "    <tr>\n",
        "      <th>52</th>\n",
        "      <td> 1821</td>\n",
        "      <td> 54</td>\n",
        "      <td>  NaN</td>\n",
        "    </tr>\n",
        "  </tbody>\n",
        "</table>\n",
        "</div>"
       ],
       "metadata": {},
       "output_type": "pyout",
       "prompt_number": 6,
       "text": [
        "    Ann\u00e9e  Bl\u00e9  Salaire\n",
        "48   1805   81     29.5\n",
        "49   1810   99     30.0\n",
        "50   1815   78      NaN\n",
        "51   1820   54      NaN\n",
        "52   1821   54      NaN"
       ]
      }
     ],
     "prompt_number": 6
    },
    {
     "cell_type": "markdown",
     "metadata": {},
     "source": [
      "Nous pouvons \u00ab\u00a0finir\u00a0\u00bb cet exemple en reproduisant le [graphe montrant la co-\u00e9volution du prix du bl\u00e9 et du salaire](http://fr.wikipedia.org/wiki/William_Playfair#mediaviewer/File:Chart_Showing_at_One_View_the_Price_of_the_Quarter_of_Wheat,_and_Wages_of_Labour_by_the_Week,_from_1565_to_1821.png):"
     ]
    },
    {
     "cell_type": "code",
     "collapsed": false,
     "input": [
      "plt.step(ble[\"Ann\u00e9e\"], ble[\"Bl\u00e9\"], color=\"black\", where=\"post\")\n",
      "plt.ylabel(u\"Prix du quart de boisseau de bl\u00e9 (shillings)\")\n",
      "\n",
      "salaire_connu = ble.dropna(how=\"any\")\n",
      "plt.plot(salaire_connu[\"Ann\u00e9e\"], salaire_connu[\"Salaire\"], color=\"red\", linewidth=3)\n",
      "plt.fill_between(salaire_connu[\"Ann\u00e9e\"], salaire_connu[\"Salaire\"], facecolor=\"LightSkyBlue\")\n",
      "plt.text(1565, 10, u\"Salaire hebdomadaire d'un ouvrier qualifi\u00e9\",\n",
      "         color=\"red\", fontsize=6, rotation=2)\n",
      "\n",
      "plt.ylim(-5, 105)"
     ],
     "language": "python",
     "metadata": {},
     "outputs": [
      {
       "metadata": {},
       "output_type": "pyout",
       "prompt_number": 7,
       "text": [
        "(-5, 105)"
       ]
      },
      {
       "metadata": {},
       "output_type": "display_data",
       "png": "[encoded data removed]",
       "text": [
        "<matplotlib.figure.Figure at 0x107bb7790>"
       ]
      }
     ],
     "prompt_number": 7
    },
    {
     "cell_type": "markdown",
     "metadata": {},
     "source": [
      "Pour comparaison, le plot d'origine de William Playfair:\n",
      "\n",
      "<img width=500 src=\"https://upload.wikimedia.org/wikipedia/commons/3/3a/Chart_Showing_at_One_View_the_Price_of_the_Quarter_of_Wheat%2C_and_Wages_of_Labour_by_the_Week%2C_from_1565_to_1821.png\">"
     ]
    }
   ],
   "metadata": {}
  }
 ]
}